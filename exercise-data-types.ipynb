{
 "cells": [
  {
   "cell_type": "markdown",
   "id": "1289bb37",
   "metadata": {
    "papermill": {
     "duration": 0.006021,
     "end_time": "2025-02-16T10:52:21.521151",
     "exception": false,
     "start_time": "2025-02-16T10:52:21.515130",
     "status": "completed"
    },
    "tags": []
   },
   "source": [
    "**This notebook is an exercise in the [Intro to Programming](https://www.kaggle.com/learn/intro-to-programming) course.  You can reference the tutorial at [this link](https://www.kaggle.com/alexisbcook/data-types).**\n",
    "\n",
    "---\n"
   ]
  },
  {
   "cell_type": "markdown",
   "id": "4eaafc1d",
   "metadata": {
    "papermill": {
     "duration": 0.004979,
     "end_time": "2025-02-16T10:52:21.531662",
     "exception": false,
     "start_time": "2025-02-16T10:52:21.526683",
     "status": "completed"
    },
    "tags": []
   },
   "source": [
    "In the tutorial, you learned about four different data types: floats, integers, strings, and booleans.  In this exercise, you'll experiment with them.\n",
    "\n",
    "# Set up the notebook\n",
    "\n",
    "Run the next code cell without changes to set up the notebook."
   ]
  },
  {
   "cell_type": "code",
   "execution_count": 1,
   "id": "493e2f27",
   "metadata": {
    "execution": {
     "iopub.execute_input": "2025-02-16T10:52:21.543678Z",
     "iopub.status.busy": "2025-02-16T10:52:21.543317Z",
     "iopub.status.idle": "2025-02-16T10:52:22.574964Z",
     "shell.execute_reply": "2025-02-16T10:52:22.573769Z"
    },
    "papermill": {
     "duration": 1.039813,
     "end_time": "2025-02-16T10:52:22.576746",
     "exception": false,
     "start_time": "2025-02-16T10:52:21.536933",
     "status": "completed"
    },
    "tags": []
   },
   "outputs": [
    {
     "name": "stdout",
     "output_type": "stream",
     "text": [
      "Setup complete.\n"
     ]
    }
   ],
   "source": [
    "# Set up the exercise\n",
    "from learntools.core import binder\n",
    "binder.bind(globals())\n",
    "from learntools.intro_to_programming.ex3 import *\n",
    "print('Setup complete.')"
   ]
  },
  {
   "cell_type": "markdown",
   "id": "7b056b69",
   "metadata": {
    "papermill": {
     "duration": 0.005893,
     "end_time": "2025-02-16T10:52:22.588651",
     "exception": false,
     "start_time": "2025-02-16T10:52:22.582758",
     "status": "completed"
    },
    "tags": []
   },
   "source": [
    "# Question 1\n",
    "\n",
    "You have seen how to convert a float to an integer with the `int` function.  Try this out yourself by running the code cell below."
   ]
  },
  {
   "cell_type": "code",
   "execution_count": 2,
   "id": "9d41a59b",
   "metadata": {
    "execution": {
     "iopub.execute_input": "2025-02-16T10:52:22.602101Z",
     "iopub.status.busy": "2025-02-16T10:52:22.601581Z",
     "iopub.status.idle": "2025-02-16T10:52:22.607735Z",
     "shell.execute_reply": "2025-02-16T10:52:22.606641Z"
    },
    "papermill": {
     "duration": 0.014549,
     "end_time": "2025-02-16T10:52:22.609558",
     "exception": false,
     "start_time": "2025-02-16T10:52:22.595009",
     "status": "completed"
    },
    "tags": []
   },
   "outputs": [
    {
     "name": "stdout",
     "output_type": "stream",
     "text": [
      "1.0\n",
      "<class 'float'>\n",
      "1\n",
      "<class 'int'>\n"
     ]
    }
   ],
   "source": [
    "# Define a float\n",
    "y = 1.\n",
    "print(y)\n",
    "print(type(y))\n",
    "\n",
    "# Convert float to integer with the int function\n",
    "z = int(y)\n",
    "print(z)\n",
    "print(type(z))"
   ]
  },
  {
   "cell_type": "markdown",
   "id": "3bac4093",
   "metadata": {
    "papermill": {
     "duration": 0.005185,
     "end_time": "2025-02-16T10:52:22.620530",
     "exception": false,
     "start_time": "2025-02-16T10:52:22.615345",
     "status": "completed"
    },
    "tags": []
   },
   "source": [
    "In this case, the float you are using has no numbers after the decimal.  \n",
    "- But what happens when you try to convert a float with a fractional part to an integer?  \n",
    "- How does the outcome of the `int` function change for positive and negative numbers?\n",
    "\n",
    "Use the next code cell to investigate and answer these questions.  Feel free to add or remove any lines of code -- it is your workspace!"
   ]
  },
  {
   "cell_type": "code",
   "execution_count": 3,
   "id": "046f051a",
   "metadata": {
    "execution": {
     "iopub.execute_input": "2025-02-16T10:52:22.633136Z",
     "iopub.status.busy": "2025-02-16T10:52:22.632689Z",
     "iopub.status.idle": "2025-02-16T10:52:22.638665Z",
     "shell.execute_reply": "2025-02-16T10:52:22.637489Z"
    },
    "papermill": {
     "duration": 0.014386,
     "end_time": "2025-02-16T10:52:22.640582",
     "exception": false,
     "start_time": "2025-02-16T10:52:22.626196",
     "status": "completed"
    },
    "tags": []
   },
   "outputs": [
    {
     "name": "stdout",
     "output_type": "stream",
     "text": [
      "1\n",
      "1\n",
      "-3\n",
      "-2\n"
     ]
    }
   ],
   "source": [
    "# Uncomment and run this code to get started!\n",
    "print(int(1.2321))\n",
    "print(int(1.747))\n",
    "print(int(-3.94535))\n",
    "print(int(-2.19774))"
   ]
  },
  {
   "cell_type": "markdown",
   "id": "0891a0b0",
   "metadata": {
    "papermill": {
     "duration": 0.005251,
     "end_time": "2025-02-16T10:52:22.651486",
     "exception": false,
     "start_time": "2025-02-16T10:52:22.646235",
     "status": "completed"
    },
    "tags": []
   },
   "source": [
    "Once you have an answer, run the code cell below to see the solution.  Viewing the solution will give you credit for answering the problem."
   ]
  },
  {
   "cell_type": "code",
   "execution_count": 4,
   "id": "37ca22f1",
   "metadata": {
    "execution": {
     "iopub.execute_input": "2025-02-16T10:52:22.663798Z",
     "iopub.status.busy": "2025-02-16T10:52:22.663420Z",
     "iopub.status.idle": "2025-02-16T10:52:22.671594Z",
     "shell.execute_reply": "2025-02-16T10:52:22.670596Z"
    },
    "papermill": {
     "duration": 0.016248,
     "end_time": "2025-02-16T10:52:22.673251",
     "exception": false,
     "start_time": "2025-02-16T10:52:22.657003",
     "status": "completed"
    },
    "tags": []
   },
   "outputs": [
    {
     "data": {
      "application/javascript": [
       "parent.postMessage({\"jupyterEvent\": \"custom.exercise_interaction\", \"data\": {\"outcomeType\": 1, \"valueTowardsCompletion\": 0.2, \"interactionType\": 1, \"questionType\": 4, \"questionId\": \"1_FloatToInt\", \"learnToolsVersion\": \"0.3.4\", \"failureMessage\": \"\", \"exceptionClass\": \"\", \"trace\": \"\"}}, \"*\")"
      ],
      "text/plain": [
       "<IPython.core.display.Javascript object>"
      ]
     },
     "metadata": {},
     "output_type": "display_data"
    },
    {
     "data": {
      "text/markdown": [
       "<span style=\"color:#33cc33\">Correct:</span> \n",
       "\n",
       "Negative floats are always rounded UP to the closest integer (for instance, both -1.1 and -1.9 are rounded up to -1). Positive floats are always rounded DOWN to the closest integer (for instance, 2.1 and 2.9 are rounded down to 2)."
      ],
      "text/plain": [
       "Correct: \n",
       "\n",
       "Negative floats are always rounded UP to the closest integer (for instance, both -1.1 and -1.9 are rounded up to -1). Positive floats are always rounded DOWN to the closest integer (for instance, 2.1 and 2.9 are rounded down to 2)."
      ]
     },
     "metadata": {},
     "output_type": "display_data"
    }
   ],
   "source": [
    "# Check your answer (Run this code cell to receive credit!)\n",
    "q1.check()"
   ]
  },
  {
   "cell_type": "markdown",
   "id": "84fbff9a",
   "metadata": {
    "papermill": {
     "duration": 0.005478,
     "end_time": "2025-02-16T10:52:22.684656",
     "exception": false,
     "start_time": "2025-02-16T10:52:22.679178",
     "status": "completed"
    },
    "tags": []
   },
   "source": [
    "# Question 2\n",
    "\n",
    "In the tutorial, you learned about booleans (which can take a value of `True` or `False`), in addition to integers, floats, and strings.  For this question, your goal is to determine what happens when you multiply a boolean by any of these data types.  Specifically, \n",
    "- What happens when you multiply an integer or float by `True`?  What happens when you multiply them by `False`?  How does the answer change if the numbers are positive or negative?\n",
    "- What happens when you multiply a string by `True`?  By `False`?\n",
    "\n",
    "Use the next code cell for your investigation. "
   ]
  },
  {
   "cell_type": "code",
   "execution_count": 5,
   "id": "523ee2d2",
   "metadata": {
    "execution": {
     "iopub.execute_input": "2025-02-16T10:52:22.698077Z",
     "iopub.status.busy": "2025-02-16T10:52:22.697664Z",
     "iopub.status.idle": "2025-02-16T10:52:22.704134Z",
     "shell.execute_reply": "2025-02-16T10:52:22.702970Z"
    },
    "papermill": {
     "duration": 0.015233,
     "end_time": "2025-02-16T10:52:22.706083",
     "exception": false,
     "start_time": "2025-02-16T10:52:22.690850",
     "status": "completed"
    },
    "tags": []
   },
   "outputs": [
    {
     "name": "stdout",
     "output_type": "stream",
     "text": [
      "3\n",
      "-3.1\n",
      "<class 'str'>\n",
      "0\n"
     ]
    }
   ],
   "source": [
    "# Uncomment and run this code to get started!\n",
    "print(3 * True)\n",
    "print(-3.1 * True)\n",
    "print(type(\"abc\" * False))\n",
    "print(len(\"abc\" * False))"
   ]
  },
  {
   "cell_type": "markdown",
   "id": "a7f55307",
   "metadata": {
    "papermill": {
     "duration": 0.005524,
     "end_time": "2025-02-16T10:52:22.717909",
     "exception": false,
     "start_time": "2025-02-16T10:52:22.712385",
     "status": "completed"
    },
    "tags": []
   },
   "source": [
    "Once you have an answer, run the code cell below to see the solution.  Viewing the solution will give you credit for answering the problem."
   ]
  },
  {
   "cell_type": "code",
   "execution_count": 6,
   "id": "3c8d9363",
   "metadata": {
    "execution": {
     "iopub.execute_input": "2025-02-16T10:52:22.730674Z",
     "iopub.status.busy": "2025-02-16T10:52:22.730292Z",
     "iopub.status.idle": "2025-02-16T10:52:22.737453Z",
     "shell.execute_reply": "2025-02-16T10:52:22.736610Z"
    },
    "papermill": {
     "duration": 0.015294,
     "end_time": "2025-02-16T10:52:22.738966",
     "exception": false,
     "start_time": "2025-02-16T10:52:22.723672",
     "status": "completed"
    },
    "tags": []
   },
   "outputs": [
    {
     "data": {
      "application/javascript": [
       "parent.postMessage({\"jupyterEvent\": \"custom.exercise_interaction\", \"data\": {\"outcomeType\": 1, \"valueTowardsCompletion\": 0.2, \"interactionType\": 1, \"questionType\": 4, \"questionId\": \"2_MultiplyBooleans\", \"learnToolsVersion\": \"0.3.4\", \"failureMessage\": \"\", \"exceptionClass\": \"\", \"trace\": \"\"}}, \"*\")"
      ],
      "text/plain": [
       "<IPython.core.display.Javascript object>"
      ]
     },
     "metadata": {},
     "output_type": "display_data"
    },
    {
     "data": {
      "text/markdown": [
       "<span style=\"color:#33cc33\">Correct:</span> \n",
       "\n",
       "When you multiple an integer or float by a boolean with value `True`, it just returns that same integer or float (and is equivalent to multiplying by 1).  If you multiply an integer or float by a boolean with value `False`, it always returns 0.  This is true for both positive and negative numbers.  If you multiply a string by a boolean with value `True`, it just returns that same string.  And if you multiply a string by a boolean with value `False`, it returns an empty string (or a string with length zero)."
      ],
      "text/plain": [
       "Correct: \n",
       "\n",
       "When you multiple an integer or float by a boolean with value `True`, it just returns that same integer or float (and is equivalent to multiplying by 1).  If you multiply an integer or float by a boolean with value `False`, it always returns 0.  This is true for both positive and negative numbers.  If you multiply a string by a boolean with value `True`, it just returns that same string.  And if you multiply a string by a boolean with value `False`, it returns an empty string (or a string with length zero)."
      ]
     },
     "metadata": {},
     "output_type": "display_data"
    }
   ],
   "source": [
    "# Check your answer (Run this code cell to receive credit!)\n",
    "q2.check()"
   ]
  },
  {
   "cell_type": "markdown",
   "id": "b403de5a",
   "metadata": {
    "papermill": {
     "duration": 0.005661,
     "end_time": "2025-02-16T10:52:22.750843",
     "exception": false,
     "start_time": "2025-02-16T10:52:22.745182",
     "status": "completed"
    },
    "tags": []
   },
   "source": [
    "# Question 3\n",
    "\n",
    "In this question, you will build off your work from the previous exercise to write a function that estimates the value of a house.\n",
    "\n",
    "Use the next code cell to create a function `get_expected_cost` that takes as input three variables:\n",
    "- `beds` - number of bedrooms (data type float)\n",
    "- `baths` - number of bathrooms (data type float)\n",
    "- `has_basement` - whether or not the house has a basement (data type boolean)\n",
    "\n",
    "It should return the expected cost of a house with those characteristics. Assume that:\n",
    "- the expected cost for a house with 0 bedrooms and 0 bathrooms, and no basement is 80000, \n",
    "- each bedroom adds 30000 to the expected cost,\n",
    "- each bathroom adds 10000 to the expected cost, and\n",
    "- a basement adds 40000 to the expected cost.\n",
    "\n",
    "For instance,\n",
    "- a house with 1 bedroom, 1 bathroom, and no basement has an expected cost of 80000 + 30000 + 10000 = 120000.  This value will be calculated with `get_expected_cost(1, 1, False)`.\n",
    "- a house with 2 bedrooms, 1 bathroom, and a basement has an expected cost of 80000 + 2*30000 + 10000 + 40000 = 190000.  This value will be calculated with `get_expected_cost(2, 1, True)`.\n",
    "\n",
    "Remember you can always get a hint by uncommenting `q3.hint()` in the code cell following the next!"
   ]
  },
  {
   "cell_type": "code",
   "execution_count": 7,
   "id": "4c62cbc2",
   "metadata": {
    "execution": {
     "iopub.execute_input": "2025-02-16T10:52:22.763959Z",
     "iopub.status.busy": "2025-02-16T10:52:22.763637Z",
     "iopub.status.idle": "2025-02-16T10:52:22.770904Z",
     "shell.execute_reply": "2025-02-16T10:52:22.769960Z"
    },
    "papermill": {
     "duration": 0.015669,
     "end_time": "2025-02-16T10:52:22.772566",
     "exception": false,
     "start_time": "2025-02-16T10:52:22.756897",
     "status": "completed"
    },
    "tags": []
   },
   "outputs": [
    {
     "data": {
      "application/javascript": [
       "parent.postMessage({\"jupyterEvent\": \"custom.exercise_interaction\", \"data\": {\"outcomeType\": 1, \"valueTowardsCompletion\": 0.2, \"interactionType\": 1, \"questionType\": 2, \"questionId\": \"3_EstimateHouseValueBool\", \"learnToolsVersion\": \"0.3.4\", \"failureMessage\": \"\", \"exceptionClass\": \"\", \"trace\": \"\"}}, \"*\")"
      ],
      "text/plain": [
       "<IPython.core.display.Javascript object>"
      ]
     },
     "metadata": {},
     "output_type": "display_data"
    },
    {
     "data": {
      "text/markdown": [
       "<span style=\"color:#33cc33\">Correct</span>"
      ],
      "text/plain": [
       "Correct"
      ]
     },
     "metadata": {},
     "output_type": "display_data"
    }
   ],
   "source": [
    "# TODO: Complete the function\n",
    "def get_expected_cost(beds, baths, has_basement):\n",
    "    value = value = 80000 + 30000 * beds + 10000*baths + 40000*has_basement\n",
    "    return value\n",
    "\n",
    "# Check your answer \n",
    "q3.check()"
   ]
  },
  {
   "cell_type": "code",
   "execution_count": 8,
   "id": "d43cdcb5",
   "metadata": {
    "execution": {
     "iopub.execute_input": "2025-02-16T10:52:22.786678Z",
     "iopub.status.busy": "2025-02-16T10:52:22.786334Z",
     "iopub.status.idle": "2025-02-16T10:52:22.790090Z",
     "shell.execute_reply": "2025-02-16T10:52:22.789083Z"
    },
    "papermill": {
     "duration": 0.01293,
     "end_time": "2025-02-16T10:52:22.792011",
     "exception": false,
     "start_time": "2025-02-16T10:52:22.779081",
     "status": "completed"
    },
    "tags": []
   },
   "outputs": [],
   "source": [
    "# Uncomment to see a hint\n",
    "#q3.hint()\n",
    "\n",
    "# Uncomment to view the solution\n",
    "#q3.solution()"
   ]
  },
  {
   "cell_type": "markdown",
   "id": "5727c2c9",
   "metadata": {
    "papermill": {
     "duration": 0.006502,
     "end_time": "2025-02-16T10:52:22.805324",
     "exception": false,
     "start_time": "2025-02-16T10:52:22.798822",
     "status": "completed"
    },
    "tags": []
   },
   "source": [
    "# Question 4\n",
    "\n",
    "We'll continue our study of boolean arithmetic.  For this question, your task is to provide a description of what happpens when you add booleans. \n",
    "\n",
    "Use the next code cell for your investigation.  Feel free to add or remove any lines of code - use it as your workspace!"
   ]
  },
  {
   "cell_type": "code",
   "execution_count": 9,
   "id": "a9dee9fd",
   "metadata": {
    "execution": {
     "iopub.execute_input": "2025-02-16T10:52:22.819540Z",
     "iopub.status.busy": "2025-02-16T10:52:22.819157Z",
     "iopub.status.idle": "2025-02-16T10:52:22.825668Z",
     "shell.execute_reply": "2025-02-16T10:52:22.824606Z"
    },
    "papermill": {
     "duration": 0.015566,
     "end_time": "2025-02-16T10:52:22.827485",
     "exception": false,
     "start_time": "2025-02-16T10:52:22.811919",
     "status": "completed"
    },
    "tags": []
   },
   "outputs": [
    {
     "name": "stdout",
     "output_type": "stream",
     "text": [
      "0\n",
      "1\n",
      "1\n",
      "2\n",
      "3\n"
     ]
    }
   ],
   "source": [
    "print(False + False)\n",
    "print(True + False)\n",
    "print(False + True)\n",
    "print(True + True)\n",
    "print(False + True + True + True)"
   ]
  },
  {
   "cell_type": "markdown",
   "id": "211cbde1",
   "metadata": {
    "papermill": {
     "duration": 0.006016,
     "end_time": "2025-02-16T10:52:22.839926",
     "exception": false,
     "start_time": "2025-02-16T10:52:22.833910",
     "status": "completed"
    },
    "tags": []
   },
   "source": [
    "Once you have an answer, run the code cell below to see the solution.  Viewing the solution will give you credit for answering the problem."
   ]
  },
  {
   "cell_type": "code",
   "execution_count": 10,
   "id": "8ecfaf46",
   "metadata": {
    "execution": {
     "iopub.execute_input": "2025-02-16T10:52:22.853897Z",
     "iopub.status.busy": "2025-02-16T10:52:22.853518Z",
     "iopub.status.idle": "2025-02-16T10:52:22.861169Z",
     "shell.execute_reply": "2025-02-16T10:52:22.860126Z"
    },
    "papermill": {
     "duration": 0.016539,
     "end_time": "2025-02-16T10:52:22.862919",
     "exception": false,
     "start_time": "2025-02-16T10:52:22.846380",
     "status": "completed"
    },
    "tags": []
   },
   "outputs": [
    {
     "data": {
      "application/javascript": [
       "parent.postMessage({\"jupyterEvent\": \"custom.exercise_interaction\", \"data\": {\"outcomeType\": 1, \"valueTowardsCompletion\": 0.2, \"interactionType\": 1, \"questionType\": 4, \"questionId\": \"4_AddingBooleans\", \"learnToolsVersion\": \"0.3.4\", \"failureMessage\": \"\", \"exceptionClass\": \"\", \"trace\": \"\"}}, \"*\")"
      ],
      "text/plain": [
       "<IPython.core.display.Javascript object>"
      ]
     },
     "metadata": {},
     "output_type": "display_data"
    },
    {
     "data": {
      "text/markdown": [
       "<span style=\"color:#33cc33\">Correct:</span> \n",
       "\n",
       "When you add booleans, adding `False` is equivalent to adding 0, and adding `True` is equivalent to adding 1."
      ],
      "text/plain": [
       "Correct: \n",
       "\n",
       "When you add booleans, adding `False` is equivalent to adding 0, and adding `True` is equivalent to adding 1."
      ]
     },
     "metadata": {},
     "output_type": "display_data"
    }
   ],
   "source": [
    "# Check your answer (Run this code cell to receive credit!)\n",
    "q4.check()"
   ]
  },
  {
   "cell_type": "markdown",
   "id": "fba89e16",
   "metadata": {
    "papermill": {
     "duration": 0.006433,
     "end_time": "2025-02-16T10:52:22.875914",
     "exception": false,
     "start_time": "2025-02-16T10:52:22.869481",
     "status": "completed"
    },
    "tags": []
   },
   "source": [
    "# 🌶️ Question 5\n",
    "\n",
    "You own an online shop where you sell rings with custom engravings.  You offer both gold plated and solid gold rings.\n",
    "- Gold plated rings have a base cost of \\\\$50, and you charge \\\\$7 per engraved unit.  \n",
    "- Solid gold rings have a base cost of \\\\$100, and you charge \\\\$10 per engraved unit.\n",
    "- Spaces and punctuation are counted as engraved units.\n",
    "\n",
    "Write a function `cost_of_project()` that takes two arguments:\n",
    "- `engraving` - a Python string with the text of the engraving\n",
    "- `solid_gold` - a Boolean that indicates whether the ring is solid gold\n",
    "\n",
    "It should return the cost of the project.  This question should be fairly challenging, and you may need a hint."
   ]
  },
  {
   "cell_type": "code",
   "execution_count": 11,
   "id": "b8525e73",
   "metadata": {
    "execution": {
     "iopub.execute_input": "2025-02-16T10:52:22.891133Z",
     "iopub.status.busy": "2025-02-16T10:52:22.890714Z",
     "iopub.status.idle": "2025-02-16T10:52:22.898927Z",
     "shell.execute_reply": "2025-02-16T10:52:22.897875Z"
    },
    "papermill": {
     "duration": 0.017993,
     "end_time": "2025-02-16T10:52:22.900706",
     "exception": false,
     "start_time": "2025-02-16T10:52:22.882713",
     "status": "completed"
    },
    "tags": []
   },
   "outputs": [
    {
     "data": {
      "application/javascript": [
       "parent.postMessage({\"jupyterEvent\": \"custom.exercise_interaction\", \"data\": {\"outcomeType\": 1, \"valueTowardsCompletion\": 0.2, \"interactionType\": 1, \"questionType\": 2, \"questionId\": \"5_CustomEngravings\", \"learnToolsVersion\": \"0.3.4\", \"failureMessage\": \"\", \"exceptionClass\": \"\", \"trace\": \"\"}}, \"*\")"
      ],
      "text/plain": [
       "<IPython.core.display.Javascript object>"
      ]
     },
     "metadata": {},
     "output_type": "display_data"
    },
    {
     "data": {
      "text/markdown": [
       "<span style=\"color:#33cc33\">Correct</span>"
      ],
      "text/plain": [
       "Correct"
      ]
     },
     "metadata": {},
     "output_type": "display_data"
    }
   ],
   "source": [
    "def cost_of_project(engraving, solid_gold):\n",
    "    cost = solid_gold * (100 + 10*len(engraving)) + (not solid_gold) * (50 + 7 *len(engraving))\n",
    "    return cost\n",
    "\n",
    "# Check your answer\n",
    "q5.check()"
   ]
  },
  {
   "cell_type": "code",
   "execution_count": 12,
   "id": "8ad3526d",
   "metadata": {
    "execution": {
     "iopub.execute_input": "2025-02-16T10:52:22.915860Z",
     "iopub.status.busy": "2025-02-16T10:52:22.915504Z",
     "iopub.status.idle": "2025-02-16T10:52:22.919417Z",
     "shell.execute_reply": "2025-02-16T10:52:22.918354Z"
    },
    "papermill": {
     "duration": 0.013223,
     "end_time": "2025-02-16T10:52:22.921113",
     "exception": false,
     "start_time": "2025-02-16T10:52:22.907890",
     "status": "completed"
    },
    "tags": []
   },
   "outputs": [],
   "source": [
    "# Uncomment to see a hint\n",
    "#q5.hint()\n",
    "\n",
    "# Uncomment to view the solution\n",
    "#q5.solution()"
   ]
  },
  {
   "cell_type": "markdown",
   "id": "b4c752c2",
   "metadata": {
    "papermill": {
     "duration": 0.00652,
     "end_time": "2025-02-16T10:52:22.934809",
     "exception": false,
     "start_time": "2025-02-16T10:52:22.928289",
     "status": "completed"
    },
    "tags": []
   },
   "source": [
    "Run the next code cell to calculate the cost of engraving `Charlie+Denver` on a solid gold ring."
   ]
  },
  {
   "cell_type": "code",
   "execution_count": 13,
   "id": "6237fb35",
   "metadata": {
    "execution": {
     "iopub.execute_input": "2025-02-16T10:52:22.950126Z",
     "iopub.status.busy": "2025-02-16T10:52:22.949746Z",
     "iopub.status.idle": "2025-02-16T10:52:22.954536Z",
     "shell.execute_reply": "2025-02-16T10:52:22.953353Z"
    },
    "papermill": {
     "duration": 0.01458,
     "end_time": "2025-02-16T10:52:22.956118",
     "exception": false,
     "start_time": "2025-02-16T10:52:22.941538",
     "status": "completed"
    },
    "tags": []
   },
   "outputs": [
    {
     "name": "stdout",
     "output_type": "stream",
     "text": [
      "240\n"
     ]
    }
   ],
   "source": [
    "project_one = cost_of_project(\"Charlie+Denver\", True)\n",
    "print(project_one)"
   ]
  },
  {
   "cell_type": "markdown",
   "id": "75d3399c",
   "metadata": {
    "papermill": {
     "duration": 0.006397,
     "end_time": "2025-02-16T10:52:22.969836",
     "exception": false,
     "start_time": "2025-02-16T10:52:22.963439",
     "status": "completed"
    },
    "tags": []
   },
   "source": [
    "Use the next code cell to calculate the cost of engraving `08/10/2000` on a gold plated ring."
   ]
  },
  {
   "cell_type": "code",
   "execution_count": 14,
   "id": "48ab64ba",
   "metadata": {
    "execution": {
     "iopub.execute_input": "2025-02-16T10:52:22.984529Z",
     "iopub.status.busy": "2025-02-16T10:52:22.984183Z",
     "iopub.status.idle": "2025-02-16T10:52:22.989490Z",
     "shell.execute_reply": "2025-02-16T10:52:22.988312Z"
    },
    "papermill": {
     "duration": 0.014524,
     "end_time": "2025-02-16T10:52:22.991055",
     "exception": false,
     "start_time": "2025-02-16T10:52:22.976531",
     "status": "completed"
    },
    "tags": []
   },
   "outputs": [
    {
     "name": "stdout",
     "output_type": "stream",
     "text": [
      "120\n"
     ]
    }
   ],
   "source": [
    "project_two = cost_of_project(\"08/10/2000\", False)\n",
    "print(project_two)"
   ]
  },
  {
   "cell_type": "markdown",
   "id": "b62017a4",
   "metadata": {
    "papermill": {
     "duration": 0.006441,
     "end_time": "2025-02-16T10:52:23.004543",
     "exception": false,
     "start_time": "2025-02-16T10:52:22.998102",
     "status": "completed"
    },
    "tags": []
   },
   "source": [
    "# Keep going\n",
    "\n",
    "Continue to the next lesson to **[learn about conditions and conditional statements](https://www.kaggle.com/alexisbcook/conditions-and-conditional-statements)**."
   ]
  },
  {
   "cell_type": "markdown",
   "id": "852d9853",
   "metadata": {
    "papermill": {
     "duration": 0.006654,
     "end_time": "2025-02-16T10:52:23.018542",
     "exception": false,
     "start_time": "2025-02-16T10:52:23.011888",
     "status": "completed"
    },
    "tags": []
   },
   "source": [
    "---\n",
    "\n",
    "\n",
    "\n",
    "\n",
    "*Have questions or comments? Visit the [course discussion forum](https://www.kaggle.com/learn/intro-to-programming/discussion) to chat with other learners.*"
   ]
  }
 ],
 "metadata": {
  "kaggle": {
   "accelerator": "none",
   "dataSources": [],
   "isGpuEnabled": false,
   "isInternetEnabled": false,
   "language": "python",
   "sourceType": "notebook"
  },
  "kernelspec": {
   "display_name": "Python 3",
   "language": "python",
   "name": "python3"
  },
  "language_info": {
   "codemirror_mode": {
    "name": "ipython",
    "version": 3
   },
   "file_extension": ".py",
   "mimetype": "text/x-python",
   "name": "python",
   "nbconvert_exporter": "python",
   "pygments_lexer": "ipython3",
   "version": "3.10.12"
  },
  "papermill": {
   "default_parameters": {},
   "duration": 4.946783,
   "end_time": "2025-02-16T10:52:23.646442",
   "environment_variables": {},
   "exception": null,
   "input_path": "__notebook__.ipynb",
   "output_path": "__notebook__.ipynb",
   "parameters": {},
   "start_time": "2025-02-16T10:52:18.699659",
   "version": "2.3.3"
  }
 },
 "nbformat": 4,
 "nbformat_minor": 5
}
