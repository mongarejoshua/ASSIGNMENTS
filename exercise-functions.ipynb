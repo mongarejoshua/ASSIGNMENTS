{
 "cells": [
  {
   "cell_type": "markdown",
   "id": "0b765edb",
   "metadata": {
    "papermill": {
     "duration": 0.00582,
     "end_time": "2025-02-16T10:41:04.626594",
     "exception": false,
     "start_time": "2025-02-16T10:41:04.620774",
     "status": "completed"
    },
    "tags": []
   },
   "source": [
    "**This notebook is an exercise in the [Intro to Programming](https://www.kaggle.com/learn/intro-to-programming) course.  You can reference the tutorial at [this link](https://www.kaggle.com/alexisbcook/functions).**\n",
    "\n",
    "---\n"
   ]
  },
  {
   "cell_type": "markdown",
   "id": "a5541e50",
   "metadata": {
    "papermill": {
     "duration": 0.004764,
     "end_time": "2025-02-16T10:41:04.636702",
     "exception": false,
     "start_time": "2025-02-16T10:41:04.631938",
     "status": "completed"
    },
    "tags": []
   },
   "source": [
    "In the tutorial, you learned about functions. In this exercise, you'll write some of your own!\n",
    "\n",
    "# Set up the notebook\n",
    "\n",
    "Run the next code cell without changes to set up the notebook."
   ]
  },
  {
   "cell_type": "code",
   "execution_count": 1,
   "id": "e497d974",
   "metadata": {
    "execution": {
     "iopub.execute_input": "2025-02-16T10:41:04.647955Z",
     "iopub.status.busy": "2025-02-16T10:41:04.647630Z",
     "iopub.status.idle": "2025-02-16T10:41:05.590317Z",
     "shell.execute_reply": "2025-02-16T10:41:05.589082Z"
    },
    "papermill": {
     "duration": 0.950533,
     "end_time": "2025-02-16T10:41:05.592234",
     "exception": false,
     "start_time": "2025-02-16T10:41:04.641701",
     "status": "completed"
    },
    "tags": []
   },
   "outputs": [
    {
     "name": "stdout",
     "output_type": "stream",
     "text": [
      "Setup complete.\n"
     ]
    }
   ],
   "source": [
    "# Set up the exercise\n",
    "import math\n",
    "from learntools.core import binder\n",
    "binder.bind(globals())\n",
    "from learntools.intro_to_programming.ex2 import *\n",
    "print('Setup complete.')"
   ]
  },
  {
   "cell_type": "markdown",
   "id": "09eea41d",
   "metadata": {
    "papermill": {
     "duration": 0.004812,
     "end_time": "2025-02-16T10:41:05.602472",
     "exception": false,
     "start_time": "2025-02-16T10:41:05.597660",
     "status": "completed"
    },
    "tags": []
   },
   "source": [
    "# Question 1\n",
    "\n",
    "In the [House Prices - Advanced Regression Techniques competition](https://www.kaggle.com/c/house-prices-advanced-regression-techniques/overview), you need to use information like the number of bedrooms and bathrooms to predict the price of a house.  Inspired by this competition, you'll write your own function to do this.\n",
    "\n",
    "In the next code cell, create a function `get_expected_cost()` that has two arguments:\n",
    "- `beds` - number of bedrooms \n",
    "- `baths` - number of bathrooms\n",
    "\n",
    "It should return the expected cost of a house with that number of bedrooms and bathrooms.  Assume that:\n",
    "- the expected cost for a house with 0 bedrooms and 0 bathrooms is `80000`.  \n",
    "- each bedroom adds `30000` to the expected cost\n",
    "- each bathroom adds `10000` to the expected cost.\n",
    "\n",
    "For instance, \n",
    "- a house with 1 bedroom and 1 bathroom has an expected cost of `120000`, and \n",
    "- a house with 2 bedrooms and 1 bathroom has an expected cost of `150000`."
   ]
  },
  {
   "cell_type": "code",
   "execution_count": 2,
   "id": "96c63745",
   "metadata": {
    "execution": {
     "iopub.execute_input": "2025-02-16T10:41:05.614274Z",
     "iopub.status.busy": "2025-02-16T10:41:05.613700Z",
     "iopub.status.idle": "2025-02-16T10:41:05.623602Z",
     "shell.execute_reply": "2025-02-16T10:41:05.622527Z"
    },
    "papermill": {
     "duration": 0.017713,
     "end_time": "2025-02-16T10:41:05.625086",
     "exception": false,
     "start_time": "2025-02-16T10:41:05.607373",
     "status": "completed"
    },
    "tags": []
   },
   "outputs": [
    {
     "data": {
      "application/javascript": [
       "parent.postMessage({\"jupyterEvent\": \"custom.exercise_interaction\", \"data\": {\"outcomeType\": 1, \"valueTowardsCompletion\": 0.2, \"interactionType\": 1, \"questionType\": 2, \"questionId\": \"1_GetExpectedCost\", \"learnToolsVersion\": \"0.3.4\", \"failureMessage\": \"\", \"exceptionClass\": \"\", \"trace\": \"\"}}, \"*\")"
      ],
      "text/plain": [
       "<IPython.core.display.Javascript object>"
      ]
     },
     "metadata": {},
     "output_type": "display_data"
    },
    {
     "data": {
      "text/markdown": [
       "<span style=\"color:#33cc33\">Correct</span>"
      ],
      "text/plain": [
       "Correct"
      ]
     },
     "metadata": {},
     "output_type": "display_data"
    }
   ],
   "source": [
    "# TODO: Complete the function\n",
    "def get_expected_cost(beds, baths):\n",
    "    value = 80000 + (30000 * beds) + (10000 * baths)\n",
    "    return value\n",
    "\n",
    "# Check your answer \n",
    "q1.check()"
   ]
  },
  {
   "cell_type": "code",
   "execution_count": 3,
   "id": "cb4fcab0",
   "metadata": {
    "execution": {
     "iopub.execute_input": "2025-02-16T10:41:05.636577Z",
     "iopub.status.busy": "2025-02-16T10:41:05.636188Z",
     "iopub.status.idle": "2025-02-16T10:41:05.640142Z",
     "shell.execute_reply": "2025-02-16T10:41:05.638998Z"
    },
    "papermill": {
     "duration": 0.011384,
     "end_time": "2025-02-16T10:41:05.641655",
     "exception": false,
     "start_time": "2025-02-16T10:41:05.630271",
     "status": "completed"
    },
    "tags": []
   },
   "outputs": [],
   "source": [
    "# Uncomment to see a hint\n",
    "#q1.hint()\n",
    "\n",
    "# Uncomment to view the solution\n",
    "#q1.solution()"
   ]
  },
  {
   "cell_type": "markdown",
   "id": "b4825bc9",
   "metadata": {
    "papermill": {
     "duration": 0.004826,
     "end_time": "2025-02-16T10:41:05.651886",
     "exception": false,
     "start_time": "2025-02-16T10:41:05.647060",
     "status": "completed"
    },
    "tags": []
   },
   "source": [
    "# Question 2\n",
    "\n",
    "You are thinking about buying a home and want to get an idea of how much you will spend, based on the number of bedrooms and bathrooms.  You are trying to decide between four different options:\n",
    "- Option 1: house with two bedrooms and three bathrooms\n",
    "- Option 2: house with three bedrooms and two bathrooms\n",
    "- Option 3: house with three bedrooms and three bathrooms\n",
    "- Option 4: house with three bedrooms and four bathrooms\n",
    "\n",
    "Use the `get_expected_cost()` function you defined in question 1 to set `option_1`, `option_2`, `option_3`, and `option_4` to the expected cost of each option."
   ]
  },
  {
   "cell_type": "code",
   "execution_count": 4,
   "id": "4cdf0591",
   "metadata": {
    "execution": {
     "iopub.execute_input": "2025-02-16T10:41:05.663393Z",
     "iopub.status.busy": "2025-02-16T10:41:05.663056Z",
     "iopub.status.idle": "2025-02-16T10:41:05.672226Z",
     "shell.execute_reply": "2025-02-16T10:41:05.671350Z"
    },
    "papermill": {
     "duration": 0.016971,
     "end_time": "2025-02-16T10:41:05.673955",
     "exception": false,
     "start_time": "2025-02-16T10:41:05.656984",
     "status": "completed"
    },
    "tags": []
   },
   "outputs": [
    {
     "name": "stdout",
     "output_type": "stream",
     "text": [
      "170000\n",
      "190000\n",
      "200000\n",
      "210000\n"
     ]
    },
    {
     "data": {
      "application/javascript": [
       "parent.postMessage({\"jupyterEvent\": \"custom.exercise_interaction\", \"data\": {\"outcomeType\": 1, \"valueTowardsCompletion\": 0.2, \"interactionType\": 1, \"questionType\": 1, \"questionId\": \"2_RunGetExpectedCost\", \"learnToolsVersion\": \"0.3.4\", \"failureMessage\": \"\", \"exceptionClass\": \"\", \"trace\": \"\"}}, \"*\")"
      ],
      "text/plain": [
       "<IPython.core.display.Javascript object>"
      ]
     },
     "metadata": {},
     "output_type": "display_data"
    },
    {
     "data": {
      "text/markdown": [
       "<span style=\"color:#33cc33\">Correct</span>"
      ],
      "text/plain": [
       "Correct"
      ]
     },
     "metadata": {},
     "output_type": "display_data"
    }
   ],
   "source": [
    "# TODO: Use the get_expected_cost function to fill in each value\n",
    "option_one = get_expected_cost(2, 3)\n",
    "option_two = get_expected_cost(3, 2)\n",
    "option_three = get_expected_cost(3, 3)\n",
    "option_four = get_expected_cost(3, 4)\n",
    "\n",
    "print(option_one)\n",
    "print(option_two)\n",
    "print(option_three)\n",
    "print(option_four)\n",
    "\n",
    "# Check your answer\n",
    "q2.check()"
   ]
  },
  {
   "cell_type": "code",
   "execution_count": 5,
   "id": "3f35cbe2",
   "metadata": {
    "execution": {
     "iopub.execute_input": "2025-02-16T10:41:05.685682Z",
     "iopub.status.busy": "2025-02-16T10:41:05.685335Z",
     "iopub.status.idle": "2025-02-16T10:41:05.688757Z",
     "shell.execute_reply": "2025-02-16T10:41:05.687831Z"
    },
    "papermill": {
     "duration": 0.011026,
     "end_time": "2025-02-16T10:41:05.690336",
     "exception": false,
     "start_time": "2025-02-16T10:41:05.679310",
     "status": "completed"
    },
    "tags": []
   },
   "outputs": [],
   "source": [
    "# Uncomment to see a hint\n",
    "#q2.hint()\n",
    "\n",
    "# Uncomment to view the solution\n",
    "#q2.solution()"
   ]
  },
  {
   "cell_type": "markdown",
   "id": "342b437b",
   "metadata": {
    "papermill": {
     "duration": 0.005276,
     "end_time": "2025-02-16T10:41:05.701309",
     "exception": false,
     "start_time": "2025-02-16T10:41:05.696033",
     "status": "completed"
    },
    "tags": []
   },
   "source": [
    "# Question 3\n",
    "\n",
    "You're a home decorator, and you'd like to use Python to streamline some of your work.  Specifically, you're creating a tool that you intend to use to calculate the cost of painting a room.\n",
    "\n",
    "As a first step, define a function `get_cost()` that takes as input:\n",
    "- `sqft_walls` = total square feet of walls to be painted\n",
    "- `sqft_ceiling` = square feet of ceiling to be painted\n",
    "- `sqft_per_gallon` = number of square feet that you can cover with one gallon of paint\n",
    "- `cost_per_gallon` = cost (in dollars) of one gallon of paint\n",
    "\n",
    "It should return the cost (in dollars) of putting one coat of paint on all walls and the ceiling.  Assume you can buy the exact amount of paint that you need, so you can buy partial gallons (e.g., if you need 7.523 gallons, you can buy that exact amount, instead of needing to buy 8 gallons and waste some paint).  Do not round your answer."
   ]
  },
  {
   "cell_type": "code",
   "execution_count": 6,
   "id": "70e535d8",
   "metadata": {
    "execution": {
     "iopub.execute_input": "2025-02-16T10:41:05.713297Z",
     "iopub.status.busy": "2025-02-16T10:41:05.712984Z",
     "iopub.status.idle": "2025-02-16T10:41:05.720835Z",
     "shell.execute_reply": "2025-02-16T10:41:05.719779Z"
    },
    "papermill": {
     "duration": 0.015751,
     "end_time": "2025-02-16T10:41:05.722496",
     "exception": false,
     "start_time": "2025-02-16T10:41:05.706745",
     "status": "completed"
    },
    "tags": []
   },
   "outputs": [
    {
     "data": {
      "application/javascript": [
       "parent.postMessage({\"jupyterEvent\": \"custom.exercise_interaction\", \"data\": {\"outcomeType\": 1, \"valueTowardsCompletion\": 0.2, \"interactionType\": 1, \"questionType\": 2, \"questionId\": \"3_GetCostPaint\", \"learnToolsVersion\": \"0.3.4\", \"failureMessage\": \"\", \"exceptionClass\": \"\", \"trace\": \"\"}}, \"*\")"
      ],
      "text/plain": [
       "<IPython.core.display.Javascript object>"
      ]
     },
     "metadata": {},
     "output_type": "display_data"
    },
    {
     "data": {
      "text/markdown": [
       "<span style=\"color:#33cc33\">Correct</span>"
      ],
      "text/plain": [
       "Correct"
      ]
     },
     "metadata": {},
     "output_type": "display_data"
    }
   ],
   "source": [
    "# TODO: Finish defining the function\n",
    "def get_cost(sqft_walls, sqft_ceiling, sqft_per_gallon, cost_per_gallon):\n",
    "    total_sqft = sqft_walls + sqft_ceiling\n",
    "    gallons_needed = total_sqft / sqft_per_gallon\n",
    "    cost = cost_per_gallon * gallons_needed\n",
    "    return cost\n",
    "\n",
    "# Check your answer\n",
    "q3.check()"
   ]
  },
  {
   "cell_type": "code",
   "execution_count": 7,
   "id": "9d734537",
   "metadata": {
    "execution": {
     "iopub.execute_input": "2025-02-16T10:41:05.734789Z",
     "iopub.status.busy": "2025-02-16T10:41:05.734412Z",
     "iopub.status.idle": "2025-02-16T10:41:05.738186Z",
     "shell.execute_reply": "2025-02-16T10:41:05.737224Z"
    },
    "papermill": {
     "duration": 0.011817,
     "end_time": "2025-02-16T10:41:05.739860",
     "exception": false,
     "start_time": "2025-02-16T10:41:05.728043",
     "status": "completed"
    },
    "tags": []
   },
   "outputs": [],
   "source": [
    "# Uncomment to see a hint\n",
    "#q3.hint()\n",
    "\n",
    "# Uncomment to view the solution\n",
    "#q3.solution()"
   ]
  },
  {
   "cell_type": "markdown",
   "id": "97e03c06",
   "metadata": {
    "papermill": {
     "duration": 0.005292,
     "end_time": "2025-02-16T10:41:05.750946",
     "exception": false,
     "start_time": "2025-02-16T10:41:05.745654",
     "status": "completed"
    },
    "tags": []
   },
   "source": [
    "# Question 4\n",
    "\n",
    "Use the `get_cost()` function you defined in Question 3 to calculate the cost of applying one coat of paint to a room with:\n",
    "- 432 square feet of walls, and\n",
    "- 144 square feet of ceiling.\n",
    "\n",
    "Assume that one gallon of paint covers 400 square feet and costs $15.  As in Question 3, assume you can buy partial gallons of paint.  Do not round your answer."
   ]
  },
  {
   "cell_type": "code",
   "execution_count": 8,
   "id": "c22152a7",
   "metadata": {
    "execution": {
     "iopub.execute_input": "2025-02-16T10:41:05.763139Z",
     "iopub.status.busy": "2025-02-16T10:41:05.762827Z",
     "iopub.status.idle": "2025-02-16T10:41:05.769872Z",
     "shell.execute_reply": "2025-02-16T10:41:05.768860Z"
    },
    "papermill": {
     "duration": 0.01531,
     "end_time": "2025-02-16T10:41:05.771800",
     "exception": false,
     "start_time": "2025-02-16T10:41:05.756490",
     "status": "completed"
    },
    "tags": []
   },
   "outputs": [
    {
     "data": {
      "application/javascript": [
       "parent.postMessage({\"jupyterEvent\": \"custom.exercise_interaction\", \"data\": {\"outcomeType\": 1, \"valueTowardsCompletion\": 0.2, \"interactionType\": 1, \"questionType\": 1, \"questionId\": \"4_GetCostPaintExample\", \"learnToolsVersion\": \"0.3.4\", \"failureMessage\": \"\", \"exceptionClass\": \"\", \"trace\": \"\"}}, \"*\")"
      ],
      "text/plain": [
       "<IPython.core.display.Javascript object>"
      ]
     },
     "metadata": {},
     "output_type": "display_data"
    },
    {
     "data": {
      "text/markdown": [
       "<span style=\"color:#33cc33\">Correct</span>"
      ],
      "text/plain": [
       "Correct"
      ]
     },
     "metadata": {},
     "output_type": "display_data"
    }
   ],
   "source": [
    "# TODO: Set the project_cost variable to the cost of the project\n",
    "project_cost = get_cost(432, 144, 400, 15)\n",
    "\n",
    "# Check your answer\n",
    "q4.check()"
   ]
  },
  {
   "cell_type": "code",
   "execution_count": 9,
   "id": "a283eae8",
   "metadata": {
    "execution": {
     "iopub.execute_input": "2025-02-16T10:41:05.785365Z",
     "iopub.status.busy": "2025-02-16T10:41:05.785006Z",
     "iopub.status.idle": "2025-02-16T10:41:05.789251Z",
     "shell.execute_reply": "2025-02-16T10:41:05.788113Z"
    },
    "papermill": {
     "duration": 0.012963,
     "end_time": "2025-02-16T10:41:05.790992",
     "exception": false,
     "start_time": "2025-02-16T10:41:05.778029",
     "status": "completed"
    },
    "tags": []
   },
   "outputs": [],
   "source": [
    "# Uncomment to see a hint\n",
    "#q4.hint()\n",
    "\n",
    "# Uncomment to view the solution\n",
    "#q4.solution()"
   ]
  },
  {
   "cell_type": "markdown",
   "id": "0de0be83",
   "metadata": {
    "papermill": {
     "duration": 0.005825,
     "end_time": "2025-02-16T10:41:05.803161",
     "exception": false,
     "start_time": "2025-02-16T10:41:05.797336",
     "status": "completed"
    },
    "tags": []
   },
   "source": [
    "# 🌶️ Question 5\n",
    "\n",
    "Now say you can no longer buy fractions of a gallon.  (For instance, if you need 4.3 gallons to do a project, then you have to buy 5 gallons of paint.)\n",
    "\n",
    "With this new scenario, you will create a new function `get_actual_cost` that uses the same inputs and calculates the cost of your project.\n",
    "\n",
    "One function that you'll need to use to do this is `math.ceil()`.  We demonstrate usage of this function in the code cell below.  It takes as a number as input and rounds the number up to the nearest integer.  \n",
    "\n",
    "Run the next code cell to test this function for yourself.  Feel free to change the value of `test_value` and make sure `math.ceil()` returns the number you expect."
   ]
  },
  {
   "cell_type": "code",
   "execution_count": 10,
   "id": "ec6fc763",
   "metadata": {
    "execution": {
     "iopub.execute_input": "2025-02-16T10:41:05.816190Z",
     "iopub.status.busy": "2025-02-16T10:41:05.815871Z",
     "iopub.status.idle": "2025-02-16T10:41:05.821118Z",
     "shell.execute_reply": "2025-02-16T10:41:05.819775Z"
    },
    "papermill": {
     "duration": 0.013576,
     "end_time": "2025-02-16T10:41:05.822634",
     "exception": false,
     "start_time": "2025-02-16T10:41:05.809058",
     "status": "completed"
    },
    "tags": []
   },
   "outputs": [
    {
     "name": "stdout",
     "output_type": "stream",
     "text": [
      "3\n"
     ]
    }
   ],
   "source": [
    "test_value = 2.17\n",
    "\n",
    "rounded_value = math.ceil(test_value)\n",
    "print(rounded_value)"
   ]
  },
  {
   "cell_type": "markdown",
   "id": "7c435ff7",
   "metadata": {
    "papermill": {
     "duration": 0.005634,
     "end_time": "2025-02-16T10:41:05.834781",
     "exception": false,
     "start_time": "2025-02-16T10:41:05.829147",
     "status": "completed"
    },
    "tags": []
   },
   "source": [
    "Use the next code cell to define the function `get_actual_cost()`.  You'll need to use the `math.ceil()` function to do this.\n",
    "\n",
    "When answering this question, note that it's completely valid to define a function that makes use of another function.  For instance, we can define a function `round_up_and_divide_by_three` that makes use of the `math.ceil` function:\n",
    "```\n",
    "def round_up_and_divide_by_three(num):\n",
    "    new_value = math.ceil(num)\n",
    "    final_value = new_value / 3\n",
    "    return final_value\n",
    "```"
   ]
  },
  {
   "cell_type": "code",
   "execution_count": 11,
   "id": "4e8090dd",
   "metadata": {
    "execution": {
     "iopub.execute_input": "2025-02-16T10:41:05.847902Z",
     "iopub.status.busy": "2025-02-16T10:41:05.847554Z",
     "iopub.status.idle": "2025-02-16T10:41:05.855898Z",
     "shell.execute_reply": "2025-02-16T10:41:05.854775Z"
    },
    "papermill": {
     "duration": 0.01708,
     "end_time": "2025-02-16T10:41:05.857732",
     "exception": false,
     "start_time": "2025-02-16T10:41:05.840652",
     "status": "completed"
    },
    "tags": []
   },
   "outputs": [
    {
     "data": {
      "application/javascript": [
       "parent.postMessage({\"jupyterEvent\": \"custom.exercise_interaction\", \"data\": {\"outcomeType\": 1, \"valueTowardsCompletion\": 0.2, \"interactionType\": 1, \"questionType\": 2, \"questionId\": \"5_NoMoreFractions\", \"learnToolsVersion\": \"0.3.4\", \"failureMessage\": \"\", \"exceptionClass\": \"\", \"trace\": \"\"}}, \"*\")"
      ],
      "text/plain": [
       "<IPython.core.display.Javascript object>"
      ]
     },
     "metadata": {},
     "output_type": "display_data"
    },
    {
     "data": {
      "text/markdown": [
       "<span style=\"color:#33cc33\">Correct</span>"
      ],
      "text/plain": [
       "Correct"
      ]
     },
     "metadata": {},
     "output_type": "display_data"
    }
   ],
   "source": [
    "def get_actual_cost(sqft_walls, sqft_ceiling, sqft_per_gallon, cost_per_gallon):\n",
    "    total_sqft = sqft_walls + sqft_ceiling\n",
    "    gallons_needed = total_sqft / sqft_per_gallon\n",
    "    gallons_to_buy = math.ceil(gallons_needed)\n",
    "    cost = cost_per_gallon * gallons_to_buy\n",
    "    \n",
    "    return cost\n",
    "\n",
    "# Check your answer\n",
    "q5.check()"
   ]
  },
  {
   "cell_type": "code",
   "execution_count": 12,
   "id": "6db37f63",
   "metadata": {
    "execution": {
     "iopub.execute_input": "2025-02-16T10:41:05.872081Z",
     "iopub.status.busy": "2025-02-16T10:41:05.871767Z",
     "iopub.status.idle": "2025-02-16T10:41:05.875654Z",
     "shell.execute_reply": "2025-02-16T10:41:05.874530Z"
    },
    "papermill": {
     "duration": 0.012907,
     "end_time": "2025-02-16T10:41:05.877332",
     "exception": false,
     "start_time": "2025-02-16T10:41:05.864425",
     "status": "completed"
    },
    "tags": []
   },
   "outputs": [],
   "source": [
    "# Uncomment to see a hint\n",
    "#q5.hint()\n",
    "\n",
    "# Uncomment to view the solution\n",
    "#q5.solution()"
   ]
  },
  {
   "cell_type": "markdown",
   "id": "80a36a33",
   "metadata": {
    "papermill": {
     "duration": 0.005652,
     "end_time": "2025-02-16T10:41:05.889331",
     "exception": false,
     "start_time": "2025-02-16T10:41:05.883679",
     "status": "completed"
    },
    "tags": []
   },
   "source": [
    "Once your function is verified as correct, run the next code cell to calculate the updated cost of your project."
   ]
  },
  {
   "cell_type": "code",
   "execution_count": 13,
   "id": "4dd84240",
   "metadata": {
    "execution": {
     "iopub.execute_input": "2025-02-16T10:41:05.902573Z",
     "iopub.status.busy": "2025-02-16T10:41:05.902201Z",
     "iopub.status.idle": "2025-02-16T10:41:05.907896Z",
     "shell.execute_reply": "2025-02-16T10:41:05.906966Z"
    },
    "papermill": {
     "duration": 0.014089,
     "end_time": "2025-02-16T10:41:05.909508",
     "exception": false,
     "start_time": "2025-02-16T10:41:05.895419",
     "status": "completed"
    },
    "tags": []
   },
   "outputs": [
    {
     "data": {
      "text/plain": [
       "30"
      ]
     },
     "execution_count": 13,
     "metadata": {},
     "output_type": "execute_result"
    }
   ],
   "source": [
    "get_actual_cost(432, 144, 400, 15) "
   ]
  },
  {
   "cell_type": "markdown",
   "id": "fba27912",
   "metadata": {
    "papermill": {
     "duration": 0.005855,
     "end_time": "2025-02-16T10:41:05.921871",
     "exception": false,
     "start_time": "2025-02-16T10:41:05.916016",
     "status": "completed"
    },
    "tags": []
   },
   "source": [
    "Say you're working with a slightly larger room.  Run the next code cell to calculate the cost of the project."
   ]
  },
  {
   "cell_type": "code",
   "execution_count": 14,
   "id": "3c0cf719",
   "metadata": {
    "execution": {
     "iopub.execute_input": "2025-02-16T10:41:05.935885Z",
     "iopub.status.busy": "2025-02-16T10:41:05.935553Z",
     "iopub.status.idle": "2025-02-16T10:41:05.941098Z",
     "shell.execute_reply": "2025-02-16T10:41:05.940093Z"
    },
    "papermill": {
     "duration": 0.014462,
     "end_time": "2025-02-16T10:41:05.942808",
     "exception": false,
     "start_time": "2025-02-16T10:41:05.928346",
     "status": "completed"
    },
    "tags": []
   },
   "outputs": [
    {
     "data": {
      "text/plain": [
       "45"
      ]
     },
     "execution_count": 14,
     "metadata": {},
     "output_type": "execute_result"
    }
   ],
   "source": [
    "get_actual_cost(594, 288, 400, 15) "
   ]
  },
  {
   "cell_type": "markdown",
   "id": "6e5d4803",
   "metadata": {
    "papermill": {
     "duration": 0.00588,
     "end_time": "2025-02-16T10:41:05.954945",
     "exception": false,
     "start_time": "2025-02-16T10:41:05.949065",
     "status": "completed"
    },
    "tags": []
   },
   "source": [
    "# Keep going\n",
    "\n",
    "Continue to learn about **[data types](https://www.kaggle.com/alexisbcook/data-types)**."
   ]
  },
  {
   "cell_type": "markdown",
   "id": "539de697",
   "metadata": {
    "papermill": {
     "duration": 0.005933,
     "end_time": "2025-02-16T10:41:05.967183",
     "exception": false,
     "start_time": "2025-02-16T10:41:05.961250",
     "status": "completed"
    },
    "tags": []
   },
   "source": [
    "---\n",
    "\n",
    "\n",
    "\n",
    "\n",
    "*Have questions or comments? Visit the [course discussion forum](https://www.kaggle.com/learn/intro-to-programming/discussion) to chat with other learners.*"
   ]
  }
 ],
 "metadata": {
  "kaggle": {
   "accelerator": "none",
   "dataSources": [],
   "isGpuEnabled": false,
   "isInternetEnabled": true,
   "language": "python",
   "sourceType": "notebook"
  },
  "kernelspec": {
   "display_name": "Python 3",
   "language": "python",
   "name": "python3"
  },
  "language_info": {
   "codemirror_mode": {
    "name": "ipython",
    "version": 3
   },
   "file_extension": ".py",
   "mimetype": "text/x-python",
   "name": "python",
   "nbconvert_exporter": "python",
   "pygments_lexer": "ipython3",
   "version": "3.10.12"
  },
  "papermill": {
   "default_parameters": {},
   "duration": 4.74165,
   "end_time": "2025-02-16T10:41:06.592654",
   "environment_variables": {},
   "exception": null,
   "input_path": "__notebook__.ipynb",
   "output_path": "__notebook__.ipynb",
   "parameters": {},
   "start_time": "2025-02-16T10:41:01.851004",
   "version": "2.6.0"
  }
 },
 "nbformat": 4,
 "nbformat_minor": 5
}
